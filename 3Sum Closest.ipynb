{
 "cells": [
  {
   "cell_type": "code",
   "execution_count": null,
   "id": "8a215316",
   "metadata": {
    "vscode": {
     "languageId": "plaintext"
    }
   },
   "outputs": [],
   "source": [
    "#3Sum Closest\n",
    "class Solution:\n",
    "    def threeSumClosest(self, nums: List[int], target: int) -> int:\n",
    "        nums=sorted(nums)\n",
    "        diff=float('inf')\n",
    "        for i in range(len(nums)-1):\n",
    "            start=i+1\n",
    "            end=len(nums)-1\n",
    "            while(start<end):\n",
    "                sum=nums[i]+nums[start]+nums[end]\n",
    "                if sum==target:\n",
    "                    return target\n",
    "                elif abs(target-sum)<diff:\n",
    "                    diff=abs(target-sum)\n",
    "                    ans=sum\n",
    "                if sum>target:\n",
    "                    end-=1\n",
    "                else:\n",
    "                    start+=1\n",
    "        return ans\n",
    "        "
   ]
  }
 ],
 "metadata": {
  "kernelspec": {
   "display_name": "Python 3 (ipykernel)",
   "language": "python",
   "name": "python3"
  },
  "language_info": {
   "codemirror_mode": {
    "name": "ipython",
    "version": 3
   },
   "file_extension": ".py",
   "mimetype": "text/x-python",
   "name": "python",
   "nbconvert_exporter": "python",
   "pygments_lexer": "ipython3",
   "version": "3.12.4"
  }
 },
 "nbformat": 4,
 "nbformat_minor": 5
}
